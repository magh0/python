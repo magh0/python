{
 "cells": [
  {
   "cell_type": "code",
   "execution_count": 1,
   "metadata": {},
   "outputs": [],
   "source": [
    "# variadic parameters (가변인자)\n",
    "## positional args, keyword args\n",
    "# 'if for .. in' 은 list comprehension이다. (filtering the components)"
   ]
  },
  {
   "cell_type": "code",
   "execution_count": 11,
   "metadata": {},
   "outputs": [],
   "source": [
    "def test(f,s,t=None):\n",
    "    test = {}\n",
    "    test[1], test[2] = f,s\n",
    "    test[3] = t if t is not None else 'Nobody'\n",
    "    print(test)"
   ]
  },
  {
   "cell_type": "code",
   "execution_count": 15,
   "metadata": {},
   "outputs": [
    {
     "name": "stdout",
     "output_type": "stream",
     "text": [
      "{1: 'bob', 2: 'jhon', 3: 'hello'}\n",
      "{1: 'bob', 2: 'jhon', 3: 'hello'}\n",
      "{1: 'bob', 2: 'jhon', 3: 'Nobody'}\n"
     ]
    }
   ],
   "source": [
    "test('bob','jhon',t='hello')\n",
    "test('bob','jhon','hello')\n",
    "test('bob','jhon')\n",
    "# f,s is positional args, and t is keyword args\n",
    "# keyword args는 선언 이전에 디폴트 값 설정이 가능하다. "
   ]
  },
  {
   "cell_type": "code",
   "execution_count": 21,
   "metadata": {},
   "outputs": [],
   "source": [
    "def test_args(*args):\n",
    "    print(args) # positional args"
   ]
  },
  {
   "cell_type": "code",
   "execution_count": 24,
   "metadata": {},
   "outputs": [],
   "source": [
    "def test_kwargs(**kwargs):\n",
    "    print(kwargs) # keyword args"
   ]
  },
  {
   "cell_type": "code",
   "execution_count": 23,
   "metadata": {},
   "outputs": [
    {
     "name": "stdout",
     "output_type": "stream",
     "text": [
      "('1', '2')\n",
      "{'f': '1', 's': '2'}\n"
     ]
    }
   ],
   "source": [
    "test_args('1','2')\n",
    "test_kwargs(f='1',s='2')"
   ]
  },
  {
   "cell_type": "code",
   "execution_count": 26,
   "metadata": {},
   "outputs": [
    {
     "name": "stdout",
     "output_type": "stream",
     "text": [
      "('q', 'b')\n",
      "{}\n",
      "('q',)\n",
      "{'f': 'b'}\n"
     ]
    }
   ],
   "source": [
    "def test_both(*args,**kwargs):\n",
    "    print(args)\n",
    "    print(kwargs)\n",
    "test_both('q','b')\n",
    "test_both('q',f='b')"
   ]
  },
  {
   "cell_type": "code",
   "execution_count": 28,
   "metadata": {},
   "outputs": [],
   "source": [
    "# unpacking thro"
   ]
  },
  {
   "cell_type": "code",
   "execution_count": 31,
   "metadata": {},
   "outputs": [],
   "source": [
    "# reduce(function, iterable, initializer=None)\n",
    "from functools import reduce"
   ]
  },
  {
   "cell_type": "code",
   "execution_count": 40,
   "metadata": {},
   "outputs": [
    {
     "name": "stdout",
     "output_type": "stream",
     "text": [
      "35\n"
     ]
    }
   ],
   "source": [
    "ex = reduce(lambda x, y: x+y, [5,4,3,2,1],20)\n",
    "print(ex)"
   ]
  },
  {
   "cell_type": "code",
   "execution_count": 43,
   "metadata": {},
   "outputs": [],
   "source": [
    "odds = [1,3,5,7]\n",
    "# tuple, list의 경우, \n",
    "def add(*numbers):\n",
    "    a = reduce(lambda x, y:x+y,numbers)\n",
    "    return a"
   ]
  },
  {
   "cell_type": "code",
   "execution_count": 46,
   "metadata": {},
   "outputs": [
    {
     "data": {
      "text/plain": [
       "16"
      ]
     },
     "execution_count": 46,
     "metadata": {},
     "output_type": "execute_result"
    }
   ],
   "source": [
    "add(*odds) # unpacking 되어 전달된다."
   ]
  },
  {
   "cell_type": "code",
   "execution_count": 47,
   "metadata": {},
   "outputs": [
    {
     "data": {
      "text/plain": [
       "[1, 3, 5, 7]"
      ]
     },
     "execution_count": 47,
     "metadata": {},
     "output_type": "execute_result"
    }
   ],
   "source": [
    "add(odds)"
   ]
  },
  {
   "cell_type": "code",
   "execution_count": 69,
   "metadata": {},
   "outputs": [],
   "source": [
    "how_to_unpack_dictionary = { 'a':'1', 'b':'2', 'c':'3' }\n",
    "dic  = { 'a':'1', 'b':'2', 'c':3 }"
   ]
  },
  {
   "cell_type": "code",
   "execution_count": 70,
   "metadata": {},
   "outputs": [],
   "source": [
    "def process(**dic):\n",
    "    extract = how_to_unpack_dictionary['c']\n",
    "    dig = dic['a']\n",
    "    print('c value is :', extract)\n",
    "    print('a value is :', dig)\n",
    "    "
   ]
  },
  {
   "cell_type": "code",
   "execution_count": 51,
   "metadata": {},
   "outputs": [
    {
     "name": "stdout",
     "output_type": "stream",
     "text": [
      "content length:  348\n"
     ]
    }
   ],
   "source": [
    "headers = {\n",
    "    'Accept': 'text/plain',\n",
    "    'Content-Length': 348,\n",
    "    'Host': 'http://mingrammer.com'\n",
    "}\n",
    "\n",
    "def pre_process(**headers):\n",
    "    content_length = headers['Content-Length']\n",
    "    print('content length: ', content_length)\n",
    "\n",
    "    host = headers['Host']\n",
    "pre_process(**headers)"
   ]
  },
  {
   "cell_type": "code",
   "execution_count": 71,
   "metadata": {},
   "outputs": [
    {
     "name": "stdout",
     "output_type": "stream",
     "text": [
      "c value is : 3\n",
      "a value is : 1\n"
     ]
    }
   ],
   "source": [
    "process(**dic)"
   ]
  },
  {
   "cell_type": "code",
   "execution_count": 74,
   "metadata": {},
   "outputs": [],
   "source": [
    "# unpacking은 변수에서 정의도 가능하다."
   ]
  },
  {
   "cell_type": "code",
   "execution_count": 76,
   "metadata": {},
   "outputs": [],
   "source": [
    "import pandas as pd"
   ]
  },
  {
   "cell_type": "code",
   "execution_count": 78,
   "metadata": {},
   "outputs": [
    {
     "name": "stdout",
     "output_type": "stream",
     "text": [
      "   NumRooms Alley   Price\n",
      "0       NaN  Pave  127500\n",
      "1       2.0   NaN  106000\n",
      "2       4.0   NaN  178100\n",
      "3       NaN   NaN  140000\n"
     ]
    }
   ],
   "source": [
    "data_file = '../data/house_tiny.csv'\n",
    "data = pd.read_csv(data_file)\n",
    "print(data)"
   ]
  },
  {
   "cell_type": "code",
   "execution_count": 79,
   "metadata": {},
   "outputs": [],
   "source": [
    "# NaN is missing value(결측값).\n",
    "# imputation : 결측값 대신 대체하여 값 사용."
   ]
  },
  {
   "cell_type": "code",
   "execution_count": 81,
   "metadata": {},
   "outputs": [],
   "source": [
    "# Consider imputation :  Replace the “NaN” entries with the mean value of the same column."
   ]
  },
  {
   "cell_type": "code",
   "execution_count": null,
   "metadata": {},
   "outputs": [],
   "source": []
  }
 ],
 "metadata": {
  "kernelspec": {
   "display_name": "Python 3",
   "language": "python",
   "name": "python3"
  },
  "language_info": {
   "codemirror_mode": {
    "name": "ipython",
    "version": 3
   },
   "file_extension": ".py",
   "mimetype": "text/x-python",
   "name": "python",
   "nbconvert_exporter": "python",
   "pygments_lexer": "ipython3",
   "version": "3.7.4"
  }
 },
 "nbformat": 4,
 "nbformat_minor": 2
}
